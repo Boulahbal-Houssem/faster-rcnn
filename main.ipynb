{
 "cells": [
  {
   "cell_type": "code",
   "execution_count": null,
   "metadata": {},
   "outputs": [],
   "source": [
    "import tensorflow as tf"
   ]
  }
 ],
 "metadata": {
  "language_info": {
   "codemirror_mode": {
    "name": "ipython",
    "version": 3
   },
   "file_extension": ".py",
   "mimetype": "text/x-python",
   "name": "python",
   "nbconvert_exporter": "python",
   "pygments_lexer": "ipython3",
   "version": "3.8.3-final"
  },
  "orig_nbformat": 2,
  "kernelspec": {
   "name": "python38364bitdl4cvvenv1ac12c63f8c94bf39dc8ac7586664ca2",
   "display_name": "Python 3.8.3 64-bit ('dl4cv': venv)"
  }
 },
 "nbformat": 4,
 "nbformat_minor": 2
}